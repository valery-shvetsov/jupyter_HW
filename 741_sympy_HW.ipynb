{
 "cells": [
  {
   "cell_type": "code",
   "execution_count": 43,
   "id": "784f0a0e",
   "metadata": {},
   "outputs": [],
   "source": [
    "from sympy import Symbol, plot, cos,  sin, diff, periodicity, pi, Interval, oo, Min, Max, pprint, simplify, evalf, maximum, minimum, S\n",
    "from sympy.abc import x, y\n",
    "from sympy.solvers import solve, solveset"
   ]
  },
  {
   "cell_type": "code",
   "execution_count": null,
   "id": "f1278d8b",
   "metadata": {},
   "outputs": [],
   "source": [
    "**Определение символов**"
   ]
  },
  {
   "cell_type": "code",
   "execution_count": 47,
   "id": "50a65a7d",
   "metadata": {},
   "outputs": [
    {
     "data": {
      "text/latex": [
       "$\\displaystyle \\left(\\frac{\\sin{\\left(x \\right)}}{2} + \\frac{\\cos{\\left(x \\right)}}{2}\\right)^{2} \\sin{\\left(x \\right)}$"
      ],
      "text/plain": [
       "(sin(x)/2 + cos(x)/2)**2*sin(x)"
      ]
     },
     "execution_count": 47,
     "metadata": {},
     "output_type": "execute_result"
    }
   ],
   "source": [
    "x = Symbol(\"x\")\n",
    "y = (sin(x)/2 + cos(x)/2) ** 2 * sin(x)\n",
    "y"
   ]
  },
  {
   "cell_type": "code",
   "execution_count": null,
   "id": "59618b4e",
   "metadata": {},
   "outputs": [],
   "source": [
    "**Упрощаем уравнение**"
   ]
  },
  {
   "cell_type": "code",
   "execution_count": 48,
   "id": "cf30e26b",
   "metadata": {},
   "outputs": [
    {
     "data": {
      "text/latex": [
       "$\\displaystyle \\frac{\\sin{\\left(x \\right)} \\sin^{2}{\\left(x + \\frac{\\pi}{4} \\right)}}{2}$"
      ],
      "text/plain": [
       "sin(x)*sin(x + pi/4)**2/2"
      ]
     },
     "execution_count": 48,
     "metadata": {},
     "output_type": "execute_result"
    }
   ],
   "source": [
    "y=simplify( (sin(x)/2 + cos(x)/2) ** 2 * sin(x))\n",
    "y"
   ]
  },
  {
   "cell_type": "code",
   "execution_count": null,
   "id": "eea41280",
   "metadata": {},
   "outputs": [],
   "source": [
    "**Определение корней функции**"
   ]
  },
  {
   "cell_type": "code",
   "execution_count": 4,
   "id": "5161ea80",
   "metadata": {},
   "outputs": [
    {
     "data": {
      "text/plain": [
       "[0, -pi/4, 3*pi/4, pi]"
      ]
     },
     "execution_count": 4,
     "metadata": {},
     "output_type": "execute_result"
    }
   ],
   "source": [
    "solve(y,x)"
   ]
  },
  {
   "cell_type": "code",
   "execution_count": 5,
   "id": "2ba55b58",
   "metadata": {},
   "outputs": [
    {
     "data": {
      "text/latex": [
       "$\\displaystyle \\left\\{2 n \\pi\\; \\middle|\\; n \\in \\mathbb{Z}\\right\\} \\cup \\left\\{2 n \\pi + \\pi\\; \\middle|\\; n \\in \\mathbb{Z}\\right\\} \\cup \\left\\{2 n \\pi + \\frac{3 \\pi}{4}\\; \\middle|\\; n \\in \\mathbb{Z}\\right\\} \\cup \\left\\{2 n \\pi + \\frac{7 \\pi}{4}\\; \\middle|\\; n \\in \\mathbb{Z}\\right\\}$"
      ],
      "text/plain": [
       "Union(ImageSet(Lambda(_n, 2*_n*pi + 3*pi/4), Integers), ImageSet(Lambda(_n, 2*_n*pi + 7*pi/4), Integers), ImageSet(Lambda(_n, 2*_n*pi + pi), Integers), ImageSet(Lambda(_n, 2*_n*pi), Integers))"
      ]
     },
     "execution_count": 5,
     "metadata": {},
     "output_type": "execute_result"
    }
   ],
   "source": [
    "solveset(y,x)"
   ]
  },
  {
   "cell_type": "code",
   "execution_count": null,
   "id": "821c906e",
   "metadata": {},
   "outputs": [],
   "source": [
    "**Определение производной функции**"
   ]
  },
  {
   "cell_type": "code",
   "execution_count": 84,
   "id": "c55fd1dc",
   "metadata": {},
   "outputs": [
    {
     "data": {
      "text/latex": [
       "$\\displaystyle \\sin{\\left(x \\right)} \\sin{\\left(x + \\frac{\\pi}{4} \\right)} \\cos{\\left(x + \\frac{\\pi}{4} \\right)} + \\frac{\\sin^{2}{\\left(x + \\frac{\\pi}{4} \\right)} \\cos{\\left(x \\right)}}{2}$"
      ],
      "text/plain": [
       "sin(x)*sin(x + pi/4)*cos(x + pi/4) + sin(x + pi/4)**2*cos(x)/2"
      ]
     },
     "execution_count": 84,
     "metadata": {},
     "output_type": "execute_result"
    }
   ],
   "source": [
    "z=diff(y)\n",
    "z"
   ]
  },
  {
   "cell_type": "code",
   "execution_count": null,
   "id": "e0339ae4",
   "metadata": {},
   "outputs": [],
   "source": [
    "**Определение корней производной функции**"
   ]
  },
  {
   "cell_type": "code",
   "execution_count": 81,
   "id": "8f2b0ea6",
   "metadata": {},
   "outputs": [
    {
     "data": {
      "text/latex": [
       "$\\displaystyle \\left\\{2 n \\pi + \\frac{3 \\pi}{4}\\; \\middle|\\; n \\in \\mathbb{Z}\\right\\} \\cup \\left\\{2 n \\pi + \\frac{7 \\pi}{4}\\; \\middle|\\; n \\in \\mathbb{Z}\\right\\} \\cup \\left\\{- i \\left(i \\left(2 n \\pi - \\operatorname{atan}{\\left(\\frac{\\sin{\\left(\\frac{\\operatorname{atan}{\\left(- \\frac{1}{1 + \\sqrt{17}} + \\frac{\\sqrt{17}}{1 + \\sqrt{17}} \\right)}}{2} \\right)}}{\\cos{\\left(\\frac{\\operatorname{atan}{\\left(- \\frac{1}{1 + \\sqrt{17}} + \\frac{\\sqrt{17}}{1 + \\sqrt{17}} \\right)}}{2} \\right)}} \\right)}\\right) + \\log{\\left(\\sqrt{\\sqrt{\\left(\\frac{1}{6} - \\frac{\\sqrt{17}}{6}\\right)^{2} + \\left(\\frac{1}{6} + \\frac{\\sqrt{17}}{6}\\right)^{2}} \\sin^{2}{\\left(\\frac{\\operatorname{atan}{\\left(- \\frac{1}{1 + \\sqrt{17}} + \\frac{\\sqrt{17}}{1 + \\sqrt{17}} \\right)}}{2} \\right)} + \\sqrt{\\left(\\frac{1}{6} - \\frac{\\sqrt{17}}{6}\\right)^{2} + \\left(\\frac{1}{6} + \\frac{\\sqrt{17}}{6}\\right)^{2}} \\cos^{2}{\\left(\\frac{\\operatorname{atan}{\\left(- \\frac{1}{1 + \\sqrt{17}} + \\frac{\\sqrt{17}}{1 + \\sqrt{17}} \\right)}}{2} \\right)}} \\right)}\\right)\\; \\middle|\\; n \\in \\mathbb{Z}\\right\\} \\cup \\left\\{- i \\left(i \\left(2 n \\pi - \\operatorname{atan}{\\left(\\frac{\\sin{\\left(\\frac{\\operatorname{atan}{\\left(- \\frac{1}{1 + \\sqrt{17}} + \\frac{\\sqrt{17}}{1 + \\sqrt{17}} \\right)}}{2} \\right)}}{\\cos{\\left(\\frac{\\operatorname{atan}{\\left(- \\frac{1}{1 + \\sqrt{17}} + \\frac{\\sqrt{17}}{1 + \\sqrt{17}} \\right)}}{2} \\right)}} \\right)} + \\pi\\right) + \\log{\\left(\\sqrt{\\sqrt{\\left(\\frac{1}{6} - \\frac{\\sqrt{17}}{6}\\right)^{2} + \\left(\\frac{1}{6} + \\frac{\\sqrt{17}}{6}\\right)^{2}} \\sin^{2}{\\left(\\frac{\\operatorname{atan}{\\left(- \\frac{1}{1 + \\sqrt{17}} + \\frac{\\sqrt{17}}{1 + \\sqrt{17}} \\right)}}{2} \\right)} + \\sqrt{\\left(\\frac{1}{6} - \\frac{\\sqrt{17}}{6}\\right)^{2} + \\left(\\frac{1}{6} + \\frac{\\sqrt{17}}{6}\\right)^{2}} \\cos^{2}{\\left(\\frac{\\operatorname{atan}{\\left(- \\frac{1}{1 + \\sqrt{17}} + \\frac{\\sqrt{17}}{1 + \\sqrt{17}} \\right)}}{2} \\right)}} \\right)}\\right)\\; \\middle|\\; n \\in \\mathbb{Z}\\right\\} \\cup \\left\\{- i \\left(i \\left(2 n \\pi - \\operatorname{atan}{\\left(\\frac{\\cos{\\left(\\frac{\\operatorname{atan}{\\left(\\frac{\\sqrt{17}}{1 - \\sqrt{17}} + \\frac{1}{1 - \\sqrt{17}} \\right)}}{2} \\right)}}{\\sin{\\left(\\frac{\\operatorname{atan}{\\left(\\frac{\\sqrt{17}}{1 - \\sqrt{17}} + \\frac{1}{1 - \\sqrt{17}} \\right)}}{2} \\right)}} \\right)}\\right) + \\log{\\left(\\sqrt{\\sqrt{\\left(\\frac{1}{6} - \\frac{\\sqrt{17}}{6}\\right)^{2} + \\left(\\frac{1}{6} + \\frac{\\sqrt{17}}{6}\\right)^{2}} \\sin^{2}{\\left(\\frac{\\operatorname{atan}{\\left(\\frac{\\sqrt{17}}{1 - \\sqrt{17}} + \\frac{1}{1 - \\sqrt{17}} \\right)}}{2} \\right)} + \\sqrt{\\left(\\frac{1}{6} - \\frac{\\sqrt{17}}{6}\\right)^{2} + \\left(\\frac{1}{6} + \\frac{\\sqrt{17}}{6}\\right)^{2}} \\cos^{2}{\\left(\\frac{\\operatorname{atan}{\\left(\\frac{\\sqrt{17}}{1 - \\sqrt{17}} + \\frac{1}{1 - \\sqrt{17}} \\right)}}{2} \\right)}} \\right)}\\right)\\; \\middle|\\; n \\in \\mathbb{Z}\\right\\} \\cup \\left\\{- i \\left(i \\left(2 n \\pi - \\pi - \\operatorname{atan}{\\left(\\frac{\\cos{\\left(\\frac{\\operatorname{atan}{\\left(\\frac{\\sqrt{17}}{1 - \\sqrt{17}} + \\frac{1}{1 - \\sqrt{17}} \\right)}}{2} \\right)}}{\\sin{\\left(\\frac{\\operatorname{atan}{\\left(\\frac{\\sqrt{17}}{1 - \\sqrt{17}} + \\frac{1}{1 - \\sqrt{17}} \\right)}}{2} \\right)}} \\right)}\\right) + \\log{\\left(\\sqrt{\\sqrt{\\left(\\frac{1}{6} - \\frac{\\sqrt{17}}{6}\\right)^{2} + \\left(\\frac{1}{6} + \\frac{\\sqrt{17}}{6}\\right)^{2}} \\sin^{2}{\\left(\\frac{\\operatorname{atan}{\\left(\\frac{\\sqrt{17}}{1 - \\sqrt{17}} + \\frac{1}{1 - \\sqrt{17}} \\right)}}{2} \\right)} + \\sqrt{\\left(\\frac{1}{6} - \\frac{\\sqrt{17}}{6}\\right)^{2} + \\left(\\frac{1}{6} + \\frac{\\sqrt{17}}{6}\\right)^{2}} \\cos^{2}{\\left(\\frac{\\operatorname{atan}{\\left(\\frac{\\sqrt{17}}{1 - \\sqrt{17}} + \\frac{1}{1 - \\sqrt{17}} \\right)}}{2} \\right)}} \\right)}\\right)\\; \\middle|\\; n \\in \\mathbb{Z}\\right\\}$"
      ],
      "text/plain": [
       "Union(ImageSet(Lambda(_n, 2*_n*pi + 3*pi/4), Integers), ImageSet(Lambda(_n, 2*_n*pi + 7*pi/4), Integers), ImageSet(Lambda(_n, -I*(I*(2*_n*pi - atan(sin(atan(-1/(1 + sqrt(17)) + sqrt(17)/(1 + sqrt(17)))/2)/cos(atan(-1/(1 + sqrt(17)) + sqrt(17)/(1 + sqrt(17)))/2))) + log(sqrt(sqrt((1/6 - sqrt(17)/6)**2 + (1/6 + sqrt(17)/6)**2)*sin(atan(-1/(1 + sqrt(17)) + sqrt(17)/(1 + sqrt(17)))/2)**2 + sqrt((1/6 - sqrt(17)/6)**2 + (1/6 + sqrt(17)/6)**2)*cos(atan(-1/(1 + sqrt(17)) + sqrt(17)/(1 + sqrt(17)))/2)**2)))), Integers), ImageSet(Lambda(_n, -I*(I*(2*_n*pi - atan(cos(atan(sqrt(17)/(1 - sqrt(17)) + 1/(1 - sqrt(17)))/2)/sin(atan(sqrt(17)/(1 - sqrt(17)) + 1/(1 - sqrt(17)))/2))) + log(sqrt(sqrt((1/6 - sqrt(17)/6)**2 + (1/6 + sqrt(17)/6)**2)*sin(atan(sqrt(17)/(1 - sqrt(17)) + 1/(1 - sqrt(17)))/2)**2 + sqrt((1/6 - sqrt(17)/6)**2 + (1/6 + sqrt(17)/6)**2)*cos(atan(sqrt(17)/(1 - sqrt(17)) + 1/(1 - sqrt(17)))/2)**2)))), Integers), ImageSet(Lambda(_n, -I*(I*(2*_n*pi - pi - atan(cos(atan(sqrt(17)/(1 - sqrt(17)) + 1/(1 - sqrt(17)))/2)/sin(atan(sqrt(17)/(1 - sqrt(17)) + 1/(1 - sqrt(17)))/2))) + log(sqrt(sqrt((1/6 - sqrt(17)/6)**2 + (1/6 + sqrt(17)/6)**2)*sin(atan(sqrt(17)/(1 - sqrt(17)) + 1/(1 - sqrt(17)))/2)**2 + sqrt((1/6 - sqrt(17)/6)**2 + (1/6 + sqrt(17)/6)**2)*cos(atan(sqrt(17)/(1 - sqrt(17)) + 1/(1 - sqrt(17)))/2)**2)))), Integers), ImageSet(Lambda(_n, -I*(I*(2*_n*pi - atan(sin(atan(-1/(1 + sqrt(17)) + sqrt(17)/(1 + sqrt(17)))/2)/cos(atan(-1/(1 + sqrt(17)) + sqrt(17)/(1 + sqrt(17)))/2)) + pi) + log(sqrt(sqrt((1/6 - sqrt(17)/6)**2 + (1/6 + sqrt(17)/6)**2)*sin(atan(-1/(1 + sqrt(17)) + sqrt(17)/(1 + sqrt(17)))/2)**2 + sqrt((1/6 - sqrt(17)/6)**2 + (1/6 + sqrt(17)/6)**2)*cos(atan(-1/(1 + sqrt(17)) + sqrt(17)/(1 + sqrt(17)))/2)**2)))), Integers))"
      ]
     },
     "execution_count": 81,
     "metadata": {},
     "output_type": "execute_result"
    }
   ],
   "source": [
    "roots=solveset(z,x)\n",
    "roots"
   ]
  },
  {
   "cell_type": "code",
   "execution_count": null,
   "id": "1bf7d216",
   "metadata": {},
   "outputs": [],
   "source": [
    "**Определение корней производной функции способ 2**"
   ]
  },
  {
   "cell_type": "code",
   "execution_count": 85,
   "id": "c1a285dd",
   "metadata": {},
   "outputs": [
    {
     "data": {
      "text/plain": [
       "[-pi/4,\n",
       " 3*pi/4,\n",
       " I*(log(6)/2 - log(-sqrt(1 + I + sqrt(34)*(-I)**(5/2)))),\n",
       " I*(log(6)/2 - log(-sqrt(1 + sqrt(34)*sqrt(-I) + I))),\n",
       " I*(log(6) - log(1 + I + sqrt(34)*(-I)**(5/2)))/2,\n",
       " I*(log(6) - log(1 + sqrt(34)*sqrt(-I) + I))/2]"
      ]
     },
     "execution_count": 85,
     "metadata": {},
     "output_type": "execute_result"
    }
   ],
   "source": [
    "root=solve(z,x)\n",
    "root"
   ]
  },
  {
   "cell_type": "code",
   "execution_count": 86,
   "id": "2aa0ddb7",
   "metadata": {},
   "outputs": [
    {
     "data": {
      "text/plain": [
       "[-0.79, 2.36, -2.08, 2.87, 1.06, -0.27]"
      ]
     },
     "execution_count": 86,
     "metadata": {},
     "output_type": "execute_result"
    }
   ],
   "source": [
    "root_list=[]\n",
    "for i in root:\n",
    "    root_list.append(round(i.evalf(),2))\n",
    "root_list"
   ]
  },
  {
   "cell_type": "code",
   "execution_count": null,
   "id": "758d921e",
   "metadata": {},
   "outputs": [],
   "source": [
    "**Добавляем границы интервала**"
   ]
  },
  {
   "cell_type": "code",
   "execution_count": 88,
   "id": "5113ece6",
   "metadata": {},
   "outputs": [
    {
     "data": {
      "text/plain": [
       "[-pi, -2.08, -0.79, -0.27, 1.06, 2.36, 2.87, pi]"
      ]
     },
     "execution_count": 88,
     "metadata": {},
     "output_type": "execute_result"
    }
   ],
   "source": [
    "root_list.insert(0,-pi)\n",
    "root_list.append(pi)\n",
    "root_list"
   ]
  },
  {
   "cell_type": "code",
   "execution_count": null,
   "id": "bdbe270f",
   "metadata": {},
   "outputs": [],
   "source": [
    "**Сортируем список корней производной**"
   ]
  },
  {
   "cell_type": "code",
   "execution_count": 89,
   "id": "6e9664c3",
   "metadata": {},
   "outputs": [
    {
     "data": {
      "text/plain": [
       "[-pi, -2.08, -0.79, -0.27, 1.06, 2.36, 2.87, pi]"
      ]
     },
     "execution_count": 89,
     "metadata": {},
     "output_type": "execute_result"
    }
   ],
   "source": [
    "root_list.sort()\n",
    "root_list"
   ]
  },
  {
   "cell_type": "code",
   "execution_count": null,
   "id": "d63f5edc",
   "metadata": {},
   "outputs": [],
   "source": [
    "**Создаем список интервалов**"
   ]
  },
  {
   "cell_type": "code",
   "execution_count": 95,
   "id": "9834f309",
   "metadata": {},
   "outputs": [
    {
     "data": {
      "text/plain": [
       "[Interval(-pi, -2.08),\n",
       " Interval(-2.08, -0.79),\n",
       " Interval(-0.79, -0.27),\n",
       " Interval(-0.27, 1.06),\n",
       " Interval(1.06, 2.36),\n",
       " Interval(2.36, 2.87),\n",
       " Interval(2.87, pi)]"
      ]
     },
     "execution_count": 95,
     "metadata": {},
     "output_type": "execute_result"
    }
   ],
   "source": [
    "intervals=[]\n",
    "for i in range (0, len(root_list)-1):\n",
    "    intervals.append(Interval(root_list[i], root_list[i+1]))\n",
    "intervals"
   ]
  },
  {
   "cell_type": "code",
   "execution_count": null,
   "id": "80d6a031",
   "metadata": {},
   "outputs": [],
   "source": [
    "**Оприделяем х в серединах интервалов**"
   ]
  },
  {
   "cell_type": "code",
   "execution_count": 107,
   "id": "2d481afb",
   "metadata": {},
   "outputs": [
    {
     "data": {
      "text/plain": [
       "[-2.61, -1.44, -0.53, 0.40, 1.71, 2.62, 3.01]"
      ]
     },
     "execution_count": 107,
     "metadata": {},
     "output_type": "execute_result"
    }
   ],
   "source": [
    "midpoints=[]\n",
    "for i in range (0, len(root_list)-1):\n",
    "    midpoints.append(round((root_list[i]+(root_list[i+1]-root_list[i])/2).evalf(),2))\n",
    "midpoints    "
   ]
  },
  {
   "cell_type": "code",
   "execution_count": null,
   "id": "42d5ac03",
   "metadata": {},
   "outputs": [],
   "source": [
    "**Если производная в середине интервала >0, то функция в этом интервале возрастает **"
   ]
  },
  {
   "cell_type": "code",
   "execution_count": 108,
   "id": "8a4a86e2",
   "metadata": {},
   "outputs": [
    {
     "name": "stdout",
     "output_type": "stream",
     "text": [
      " Interval(-2.08, -0.79)-функция возрастает\n",
      " Interval(-0.27, 1.06)-функция возрастает\n",
      " Interval(2.36, 2.87)-функция возрастает\n"
     ]
    }
   ],
   "source": [
    "for i, midpoint in enumerate (midpoints):\n",
    "    if z.subs(x,midpoint).evalf()>0:\n",
    "        print(f' {intervals[i]}-функция возрастает')"
   ]
  },
  {
   "cell_type": "code",
   "execution_count": null,
   "id": "cef3c50b",
   "metadata": {},
   "outputs": [],
   "source": [
    "**Если производная в середине интервала <0, то функция в этом интервале убывает **"
   ]
  },
  {
   "cell_type": "code",
   "execution_count": 109,
   "id": "4638422a",
   "metadata": {},
   "outputs": [
    {
     "name": "stdout",
     "output_type": "stream",
     "text": [
      " Interval(-pi, -2.08)-функция убывает\n",
      " Interval(-0.79, -0.27)-функция убывает\n",
      " Interval(1.06, 2.36)-функция убывает\n",
      " Interval(2.87, pi)-функция убывает\n"
     ]
    }
   ],
   "source": [
    "for i, midpoint in enumerate (midpoints):\n",
    "    if z.subs(x,midpoint).evalf()<0:\n",
    "        print(f' {intervals[i]}-функция убывает')"
   ]
  },
  {
   "cell_type": "code",
   "execution_count": null,
   "id": "1422952f",
   "metadata": {},
   "outputs": [],
   "source": [
    "**Проверяем на периодичность функции**"
   ]
  },
  {
   "cell_type": "code",
   "execution_count": 7,
   "id": "7aeee813",
   "metadata": {},
   "outputs": [
    {
     "data": {
      "text/latex": [
       "$\\displaystyle 2 \\pi$"
      ],
      "text/plain": [
       "2*pi"
      ]
     },
     "execution_count": 7,
     "metadata": {},
     "output_type": "execute_result"
    }
   ],
   "source": [
    "periodicity(y,x)"
   ]
  },
  {
   "cell_type": "code",
   "execution_count": null,
   "id": "d507daca",
   "metadata": {},
   "outputs": [],
   "source": [
    "**Проверяем на периодичность производную функции**"
   ]
  },
  {
   "cell_type": "code",
   "execution_count": 8,
   "id": "6f3482e6",
   "metadata": {},
   "outputs": [
    {
     "data": {
      "text/latex": [
       "$\\displaystyle 2 \\pi$"
      ],
      "text/plain": [
       "2*pi"
      ]
     },
     "execution_count": 8,
     "metadata": {},
     "output_type": "execute_result"
    }
   ],
   "source": [
    "periodicity(z,x)"
   ]
  },
  {
   "cell_type": "code",
   "execution_count": null,
   "id": "5354d583",
   "metadata": {},
   "outputs": [],
   "source": [
    "**Вычисляем значения функции при некоторых значениях аргумента**"
   ]
  },
  {
   "cell_type": "code",
   "execution_count": 72,
   "id": "f2dd092f",
   "metadata": {},
   "outputs": [
    {
     "data": {
      "text/latex": [
       "$\\displaystyle 0$"
      ],
      "text/plain": [
       "0"
      ]
     },
     "execution_count": 72,
     "metadata": {},
     "output_type": "execute_result"
    }
   ],
   "source": [
    "y.subs(x, -2*pi)"
   ]
  },
  {
   "cell_type": "code",
   "execution_count": 73,
   "id": "95492296",
   "metadata": {},
   "outputs": [
    {
     "data": {
      "text/latex": [
       "$\\displaystyle 0$"
      ],
      "text/plain": [
       "0"
      ]
     },
     "execution_count": 73,
     "metadata": {},
     "output_type": "execute_result"
    }
   ],
   "source": [
    "y.subs(x, -pi)"
   ]
  },
  {
   "cell_type": "code",
   "execution_count": 74,
   "id": "7008918b",
   "metadata": {},
   "outputs": [
    {
     "data": {
      "text/latex": [
       "$\\displaystyle - \\frac{1}{4}$"
      ],
      "text/plain": [
       "-1/4"
      ]
     },
     "execution_count": 74,
     "metadata": {},
     "output_type": "execute_result"
    }
   ],
   "source": [
    "y.subs(x, -pi/2)"
   ]
  },
  {
   "cell_type": "code",
   "execution_count": 75,
   "id": "2bd64edd",
   "metadata": {},
   "outputs": [
    {
     "data": {
      "text/latex": [
       "$\\displaystyle 0$"
      ],
      "text/plain": [
       "0"
      ]
     },
     "execution_count": 75,
     "metadata": {},
     "output_type": "execute_result"
    }
   ],
   "source": [
    "y.subs(x, -pi/4)"
   ]
  },
  {
   "cell_type": "code",
   "execution_count": 24,
   "id": "ea16cee8",
   "metadata": {},
   "outputs": [
    {
     "data": {
      "text/latex": [
       "$\\displaystyle \\frac{\\sqrt{\\frac{1}{2} - \\frac{\\sqrt{2}}{4}} \\left(\\frac{\\sqrt{2}}{4} + \\frac{1}{2}\\right)}{2}$"
      ],
      "text/plain": [
       "sqrt(1/2 - sqrt(2)/4)*(sqrt(2)/4 + 1/2)/2"
      ]
     },
     "execution_count": 24,
     "metadata": {},
     "output_type": "execute_result"
    }
   ],
   "source": [
    "y.subs(x, pi/8)"
   ]
  },
  {
   "cell_type": "code",
   "execution_count": 76,
   "id": "4ca34f0c",
   "metadata": {},
   "outputs": [
    {
     "data": {
      "text/latex": [
       "$\\displaystyle \\frac{1}{4}$"
      ],
      "text/plain": [
       "1/4"
      ]
     },
     "execution_count": 76,
     "metadata": {},
     "output_type": "execute_result"
    }
   ],
   "source": [
    "y.subs(x, pi/2)"
   ]
  },
  {
   "cell_type": "code",
   "execution_count": 26,
   "id": "14bd9ebd",
   "metadata": {},
   "outputs": [
    {
     "data": {
      "text/latex": [
       "$\\displaystyle 0$"
      ],
      "text/plain": [
       "0"
      ]
     },
     "execution_count": 26,
     "metadata": {},
     "output_type": "execute_result"
    }
   ],
   "source": [
    "y.subs(x, pi)"
   ]
  },
  {
   "cell_type": "code",
   "execution_count": 27,
   "id": "3375e456",
   "metadata": {},
   "outputs": [
    {
     "data": {
      "text/latex": [
       "$\\displaystyle 0$"
      ],
      "text/plain": [
       "0"
      ]
     },
     "execution_count": 27,
     "metadata": {},
     "output_type": "execute_result"
    }
   ],
   "source": [
    "y.subs(x, 2*pi)"
   ]
  },
  {
   "cell_type": "code",
   "execution_count": null,
   "id": "2fb78ae9",
   "metadata": {},
   "outputs": [],
   "source": [
    "**Находим интервалы, на которых функция возрастает**\n"
   ]
  },
  {
   "cell_type": "code",
   "execution_count": 9,
   "id": "4a53f1ea",
   "metadata": {},
   "outputs": [
    {
     "data": {
      "text/latex": [
       "$\\displaystyle 0 \\leq x \\wedge x \\leq 2 \\pi \\wedge \\left(x = 0 \\vee x = \\frac{3 \\pi}{4} \\vee x = \\pi \\vee x = \\frac{7 \\pi}{4}\\right)$"
      ],
      "text/plain": [
       "(0 <= x) & (x <= 2*pi) & (Eq(x, 0) | Eq(x, pi) | Eq(x, 3*pi/4) | Eq(x, 7*pi/4))"
      ]
     },
     "execution_count": 9,
     "metadata": {},
     "output_type": "execute_result"
    }
   ],
   "source": [
    "solve([x>=0, x<=periodicity(y,x),y],x)"
   ]
  },
  {
   "cell_type": "code",
   "execution_count": null,
   "id": "13564b1c",
   "metadata": {},
   "outputs": [],
   "source": [
    "**Находим интервалы, на которых функция убывает**"
   ]
  },
  {
   "cell_type": "code",
   "execution_count": 10,
   "id": "1192b634",
   "metadata": {},
   "outputs": [
    {
     "data": {
      "text/latex": [
       "$\\displaystyle x \\leq 0 \\wedge \\left(x = 0 \\vee x = \\frac{3 \\pi}{4} \\vee x = \\pi \\vee x = \\frac{7 \\pi}{4}\\right) \\wedge -\\infty < x$"
      ],
      "text/plain": [
       "(-oo < x) & (x <= 0) & (Eq(x, 0) | Eq(x, pi) | Eq(x, 3*pi/4) | Eq(x, 7*pi/4))"
      ]
     },
     "execution_count": 10,
     "metadata": {},
     "output_type": "execute_result"
    }
   ],
   "source": [
    "solve([x<=0, x<=periodicity(y,x),y],x)"
   ]
  },
  {
   "cell_type": "code",
   "execution_count": null,
   "id": "2fec99e2",
   "metadata": {},
   "outputs": [],
   "source": [
    "**Построение графика функции**"
   ]
  },
  {
   "cell_type": "code",
   "execution_count": 11,
   "id": "5d296cfe",
   "metadata": {},
   "outputs": [
    {
     "data": {
      "image/png": "[encoded data removed]",
      "text/plain": [
       "<Figure size 640x480 with 1 Axes>"
      ]
     },
     "metadata": {},
     "output_type": "display_data"
    }
   ],
   "source": [
    "graf=plot (y, (x,-pi,pi))"
   ]
  },
  {
   "cell_type": "code",
   "execution_count": null,
   "id": "8923838b",
   "metadata": {},
   "outputs": [],
   "source": [
    "**Построение графика производной функции**"
   ]
  },
  {
   "cell_type": "code",
   "execution_count": 12,
   "id": "9e6b4f08",
   "metadata": {},
   "outputs": [
    {
     "data": {
      "image/png": "[encoded data removed]",
      "text/plain": [
       "<Figure size 640x480 with 1 Axes>"
      ]
     },
     "metadata": {},
     "output_type": "display_data"
    },
    {
     "data": {
      "text/plain": [
       "<sympy.plotting.plot.Plot at 0x24738420760>"
      ]
     },
     "execution_count": 12,
     "metadata": {},
     "output_type": "execute_result"
    }
   ],
   "source": [
    "plot (z, (x,-pi,pi))"
   ]
  },
  {
   "cell_type": "code",
   "execution_count": null,
   "id": "1e9e02dd",
   "metadata": {},
   "outputs": [],
   "source": [
    "**Вычисляем максимум на интервале -pi, pi**"
   ]
  },
  {
   "cell_type": "code",
   "execution_count": 121,
   "id": "bd66cb06",
   "metadata": {},
   "outputs": [
    {
     "name": "stdout",
     "output_type": "stream",
     "text": [
      "y_max1= 0.4041\n"
     ]
    }
   ],
   "source": [
    "y_max1 = round(maximum(y, x, Interval(-pi, pi)).evalf(),4)\n",
    "print ('y_max1=', y_max1)"
   ]
  },
  {
   "cell_type": "code",
   "execution_count": null,
   "id": "3f2991a5",
   "metadata": {},
   "outputs": [],
   "source": [
    "**Вычисляем максимум на интервале 3*pi/4, pi**"
   ]
  },
  {
   "cell_type": "code",
   "execution_count": 120,
   "id": "b3f66eac",
   "metadata": {},
   "outputs": [
    {
     "name": "stdout",
     "output_type": "stream",
     "text": [
      "y_max2= 0.0324\n"
     ]
    }
   ],
   "source": [
    "y_max2 = round(maximum(y, x, Interval(3*pi/4, pi)).evalf(),4)\n",
    "print ('y_max2=', y_max2)"
   ]
  },
  {
   "cell_type": "code",
   "execution_count": null,
   "id": "9ae970e2",
   "metadata": {},
   "outputs": [],
   "source": [
    "**Вычисляем минимум на интервале -pii, pi**"
   ]
  },
  {
   "cell_type": "code",
   "execution_count": 119,
   "id": "f7dff494",
   "metadata": {},
   "outputs": [
    {
     "name": "stdout",
     "output_type": "stream",
     "text": [
      "y_min1= -0.4041\n"
     ]
    }
   ],
   "source": [
    "y_min1 = round(minimum(y, x, Interval(-pi, pi)).evalf(),4)\n",
    "print ('y_min1=', y_min1)"
   ]
  },
  {
   "cell_type": "code",
   "execution_count": null,
   "id": "61d4af6c",
   "metadata": {},
   "outputs": [],
   "source": [
    "**Вычисляем минимум на интервале -pi,-3*pi/4**"
   ]
  },
  {
   "cell_type": "code",
   "execution_count": 118,
   "id": "e2f000c0",
   "metadata": {},
   "outputs": [
    {
     "name": "stdout",
     "output_type": "stream",
     "text": [
      "y_min2= -0.0324\n"
     ]
    }
   ],
   "source": [
    "y_min2 = round(minimum(y, x, Interval(-1*pi/4, 0)).evalf(),4)\n",
    "print ('y_min2=', y_min2)"
   ]
  },
  {
   "cell_type": "code",
   "execution_count": null,
   "id": "716c76f1",
   "metadata": {},
   "outputs": [],
   "source": [
    "**Определяем все вершины**"
   ]
  },
  {
   "cell_type": "code",
   "execution_count": 117,
   "id": "26b95122",
   "metadata": {},
   "outputs": [
    {
     "name": "stdout",
     "output_type": "stream",
     "text": [
      " Экстренум 1 : x=-2.08, y= -0.4041 \n",
      " Экстренум 2 : x=-0.79, y= 0.0 \n",
      " Экстренум 3 : x=-0.27, y= -0.0324 \n",
      " Экстренум 4 : x=1.06, y= 0.4041 \n",
      " Экстренум 5 : x=2.36, y= 0.0 \n",
      " Экстренум 6 : x=2.87, y= 0.0324 \n"
     ]
    }
   ],
   "source": [
    "diff_y_0=root_list[1:-1]\n",
    "index=1\n",
    "for i in diff_y_0:\n",
    "    print (f\" Экстренум {index} : x={i}, y= {round(y. subs(x,i).evalf(),4)} \") \n",
    "    index+=1                                        "
   ]
  },
  {
   "cell_type": "code",
   "execution_count": null,
   "id": "927e815b",
   "metadata": {},
   "outputs": [],
   "source": [
    "**Определяем промежутки, на котором f > 0**"
   ]
  },
  {
   "cell_type": "code",
   "execution_count": 49,
   "id": "f0b791ec",
   "metadata": {},
   "outputs": [
    {
     "data": {
      "text/latex": [
       "$\\displaystyle \\left(0, \\frac{3 \\pi}{4}\\right) \\cup \\left(\\frac{3 \\pi}{4}, \\pi\\right)$"
      ],
      "text/plain": [
       "Union(Interval.open(0, 3*pi/4), Interval.open(3*pi/4, pi))"
      ]
     },
     "execution_count": 49,
     "metadata": {},
     "output_type": "execute_result"
    }
   ],
   "source": [
    "solveset (y>0, x, S.Reals)"
   ]
  },
  {
   "cell_type": "code",
   "execution_count": null,
   "id": "3194d832",
   "metadata": {},
   "outputs": [],
   "source": [
    "**Определяем промежутки, на котором f < 0**"
   ]
  },
  {
   "cell_type": "code",
   "execution_count": 54,
   "id": "1d748ead",
   "metadata": {},
   "outputs": [
    {
     "data": {
      "text/latex": [
       "$\\displaystyle \\left(\\pi, \\frac{7 \\pi}{4}\\right) \\cup \\left(\\frac{7 \\pi}{4}, 2 \\pi\\right)$"
      ],
      "text/plain": [
       "Union(Interval.open(pi, 7*pi/4), Interval.open(7*pi/4, 2*pi))"
      ]
     },
     "execution_count": 54,
     "metadata": {},
     "output_type": "execute_result"
    }
   ],
   "source": [
    "solveset (y<0, x, S.Reals)"
   ]
  },
  {
   "cell_type": "code",
   "execution_count": null,
   "id": "d4daa5f2",
   "metadata": {},
   "outputs": [],
   "source": [
    "**Построение графика функции и производной функции**"
   ]
  },
  {
   "cell_type": "code",
   "execution_count": 70,
   "id": "0adfc2f7",
   "metadata": {},
   "outputs": [
    {
     "data": {
      "image/png": "[encoded data removed]",
      "text/plain": [
       "<Figure size 640x480 with 1 Axes>"
      ]
     },
     "metadata": {},
     "output_type": "display_data"
    }
   ],
   "source": [
    "graf_func=plot(y, (x, -pi, pi), show=False)\n",
    "pd=plot(z, (x, -pi, pi), show=False)\n",
    "graf_func.append(pd[0])\n",
    "graf_func.show()"
   ]
  },
  {
   "cell_type": "code",
   "execution_count": null,
   "id": "028ec78f",
   "metadata": {},
   "outputs": [],
   "source": []
  }
 ],
 "metadata": {
  "kernelspec": {
   "display_name": "Python 3 (ipykernel)",
   "language": "python",
   "name": "python3"
  },
  "language_info": {
   "codemirror_mode": {
    "name": "ipython",
    "version": 3
   },
   "file_extension": ".py",
   "mimetype": "text/x-python",
   "name": "python",
   "nbconvert_exporter": "python",
   "pygments_lexer": "ipython3",
   "version": "3.9.13"
  }
 },
 "nbformat": 4,
 "nbformat_minor": 5
}
